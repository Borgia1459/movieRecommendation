{
 "cells": [
  {
   "cell_type": "code",
   "execution_count": 1,
   "metadata": {},
   "outputs": [],
   "source": [
    "import numpy as np \n",
    "\n"
   ]
  },
  {
   "cell_type": "code",
   "execution_count": 2,
   "metadata": {},
   "outputs": [],
   "source": [
    "x_train= np.array([\n",
    "    [0,1,1],\n",
    "    [0,0,1],\n",
    "    [0,0,0],\n",
    "    [1,1,0]\n",
    "])\n",
    "y_train= ['Y','N','Y','Y']\n",
    "x_test= np.array([[1,1,0]])\n",
    "\n"
   ]
  },
  {
   "cell_type": "code",
   "execution_count": 4,
   "metadata": {},
   "outputs": [
    {
     "name": "stdout",
     "output_type": "stream",
     "text": [
      "label indices: \n",
      " defaultdict(<class 'list'>, {'Y': [0, 2, 3], 'N': [1]})\n"
     ]
    }
   ],
   "source": [
    "def get_label_indices(labels):\n",
    "    '''\n",
    "    Group samples based on their labels and return\n",
    "    indices \n",
    "    labels: lsit of labels\n",
    "    return dict, {class1: [indices], class2: [indices]}\n",
    "    '''\n",
    "\n",
    "    from collections import defaultdict\n",
    "    label_indices = defaultdict(list)\n",
    "    for index, label in enumerate(labels):\n",
    "        label_indices[label].append(index)\n",
    "    return label_indices\n",
    "\n",
    "label_indices = get_label_indices(y_train)\n",
    "print ( f'label indices: \\n {label_indices}')"
   ]
  },
  {
   "cell_type": "code",
   "execution_count": 5,
   "metadata": {},
   "outputs": [
    {
     "name": "stdout",
     "output_type": "stream",
     "text": [
      "Prior: {'Y': 0.75, 'N': 0.25}\n"
     ]
    }
   ],
   "source": [
    "def get_prior(label_indices):\n",
    "    '''\n",
    "    compute prior based on training samples\n",
    "    label_indices: group sample indices by class \n",
    "    return: dictionary, with class label as key, \n",
    "    corresponding prior as the value. \n",
    "    '''\n",
    "    prior = {label: len(indices) for label, indices in label_indices.items()}\n",
    "    total_count = sum(prior.values())\n",
    "    for label in prior:\n",
    "        prior[label] /= total_count\n",
    "    return prior\n",
    "prior= get_prior(label_indices)\n",
    "print(f'Prior: {prior}')\n",
    "    "
   ]
  },
  {
   "cell_type": "code",
   "execution_count": 8,
   "metadata": {},
   "outputs": [
    {
     "name": "stdout",
     "output_type": "stream",
     "text": [
      "Likelihood: \n",
      " {'Y': array([0.4, 0.6, 0.4])}\n"
     ]
    }
   ],
   "source": [
    "def get_likelihood( features, label_indices, smoothing=0):\n",
    "    '''\n",
    "    compute likelihood based on training samples\n",
    "    features: matrix of features\n",
    "    label_indices: group sample indices by class \n",
    "    smoothing: integer, addictive smoothing parameter\n",
    "    return dictionary, with class as key, corresponding\n",
    "    conditional probability P(feature|class) vector as value\n",
    "    '''\n",
    "    likelihood={}\n",
    "    for label, indices in label_indices.items():\n",
    "        likelihood[label] = features[indices, : ].sum(axis=0) + smoothing\n",
    "        total_count=len(indices)\n",
    "        likelihood[label]=likelihood[label]/(total_count + 2*smoothing)\n",
    "        return likelihood\n",
    "    \n",
    "smoothing= 1\n",
    "likelihood= get_likelihood(x_train, label_indices,smoothing)\n",
    "print( f'Likelihood: \\n {likelihood}')"
   ]
  },
  {
   "cell_type": "code",
   "execution_count": 11,
   "metadata": {},
   "outputs": [
    {
     "name": "stdout",
     "output_type": "stream",
     "text": [
      "Posterior:\n",
      " [{'Y': 0.7058823529411765, 'N': 0.29411764705882354}]\n"
     ]
    }
   ],
   "source": [
    "def get_posterior(x,prior,likelihood):\n",
    "    ''' compute the posterior of the testing samples, based on \n",
    "    prior and likelihood\n",
    "    x:testing samples\n",
    "    prior: dictionary, with class label key,\n",
    "    corresponding prior as a value\n",
    "    likelihood:dictionary, with class label as key,\n",
    "     corresponding conditional probability\n",
    "     vector as value\n",
    "     return: dictionary with class label as key,corresponding posterior as value.\n",
    "     '''\n",
    "    posteriors=[]\n",
    "    for t in x:\n",
    "        posterior= prior.copy()\n",
    "        for label,likelihood_label in likelihood.items():\n",
    "            for index,bool_value in enumerate(t):\n",
    "                posterior[label]= likelihood_label[index] if bool_value else(1-likelihood_label[index])\n",
    "        #normalize so that it all adds up to one \n",
    "        sum_posterior=sum(posterior.values())\n",
    "        for label in posterior:\n",
    "            if posterior[label]==float('inf'):\n",
    "                posterior[label]=1.0\n",
    "            else: \n",
    "                posterior[label]/=sum_posterior\n",
    "        posteriors.append(posterior.copy())\n",
    "\n",
    "    return posteriors\n",
    "\n",
    "posterior= get_posterior(x_test,prior, likelihood)\n",
    "print(f'Posterior:\\n {posterior}')"
   ]
  },
  {
   "cell_type": "code",
   "execution_count": 13,
   "metadata": {},
   "outputs": [
    {
     "name": "stdout",
     "output_type": "stream",
     "text": [
      "print([scikit-learn] Predicted probabilities:\n",
      "  [[0.07896399 0.92103601]]\n"
     ]
    }
   ],
   "source": [
    "from sklearn.naive_bayes import BernoulliNB\n",
    "clf= BernoulliNB(alpha= 1.0, fit_prior = True)\n",
    "clf.fit(x_train,y_train)\n",
    "\n",
    "pred_prob= clf.predict_proba(x_test)\n",
    "print(f'print([scikit-learn] Predicted probabilities:\\n  {pred_prob}')"
   ]
  },
  {
   "cell_type": "code",
   "execution_count": 14,
   "metadata": {},
   "outputs": [
    {
     "name": "stdout",
     "output_type": "stream",
     "text": [
      "[scikit-learn] Prediction:\n",
      " ['Y']\n"
     ]
    }
   ],
   "source": [
    "pred_test= clf.predict(x_test)\n",
    "print(f'[scikit-learn] Prediction:\\n {pred_test}')"
   ]
  }
 ],
 "metadata": {
  "kernelspec": {
   "display_name": "Python 3",
   "language": "python",
   "name": "python3"
  },
  "language_info": {
   "codemirror_mode": {
    "name": "ipython",
    "version": 3
   },
   "file_extension": ".py",
   "mimetype": "text/x-python",
   "name": "python",
   "nbconvert_exporter": "python",
   "pygments_lexer": "ipython3",
   "version": "3.10.13"
  }
 },
 "nbformat": 4,
 "nbformat_minor": 2
}
